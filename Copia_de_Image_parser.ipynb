{
  "nbformat": 4,
  "nbformat_minor": 0,
  "metadata": {
    "colab": {
      "provenance": [],
      "include_colab_link": true
    },
    "kernelspec": {
      "name": "python3",
      "display_name": "Python 3"
    },
    "language_info": {
      "name": "python"
    },
    "accelerator": "GPU"
  },
  "cells": [
    {
      "cell_type": "markdown",
      "metadata": {
        "id": "view-in-github",
        "colab_type": "text"
      },
      "source": [
        "<a href=\"https://colab.research.google.com/github/billbch/Imagen-Parse/blob/main/Copia_de_Image_parser.ipynb\" target=\"_parent\"><img src=\"https://colab.research.google.com/assets/colab-badge.svg\" alt=\"Open In Colab\"/></a>"
      ]
    },
    {
      "cell_type": "code",
      "execution_count": null,
      "metadata": {
        "colab": {
          "base_uri": "https://localhost:8080/"
        },
        "id": "ILqVnnpN7Noy",
        "outputId": "de421b1a-6b17-4e85-de11-3255e0e3cc9b"
      },
      "outputs": [
        {
          "output_type": "stream",
          "name": "stdout",
          "text": [
            "Cloning into 'CIHP_PGN'...\n",
            "remote: Enumerating objects: 4398, done.\u001b[K\n",
            "remote: Counting objects: 100% (34/34), done.\u001b[K\n",
            "remote: Compressing objects: 100% (30/30), done.\u001b[K\n",
            "remote: Total 4398 (delta 12), reused 18 (delta 4), pack-reused 4364\u001b[K\n",
            "Receiving objects: 100% (4398/4398), 851.18 KiB | 16.69 MiB/s, done.\n",
            "Resolving deltas: 100% (718/718), done.\n"
          ]
        }
      ],
      "source": [
        "!git clone https://github.com/Engineering-Course/CIHP_PGN.git"
      ]
    },
    {
      "cell_type": "code",
      "source": [
        "%cd /content/CIHP_PGN"
      ],
      "metadata": {
        "colab": {
          "base_uri": "https://localhost:8080/"
        },
        "id": "g5Ua6_As7af_",
        "outputId": "e32f0553-565e-496c-930b-900c16c1d9ca"
      },
      "execution_count": null,
      "outputs": [
        {
          "output_type": "stream",
          "name": "stdout",
          "text": [
            "/content/CIHP_PGN\n"
          ]
        }
      ]
    },
    {
      "cell_type": "code",
      "source": [
        "!gdown 1Mqpse5Gen4V4403wFEpv3w3JAsWw2uhk"
      ],
      "metadata": {
        "colab": {
          "base_uri": "https://localhost:8080/"
        },
        "id": "tvP7fjyg7c-9",
        "outputId": "d05b1bd6-b60d-48fb-f931-f6fca5da5457"
      },
      "execution_count": null,
      "outputs": [
        {
          "output_type": "stream",
          "name": "stdout",
          "text": [
            "Downloading...\n",
            "From: https://drive.google.com/uc?id=1Mqpse5Gen4V4403wFEpv3w3JAsWw2uhk\n",
            "To: /content/CIHP_PGN/CIHP_pgn.zip\n",
            "100% 1.23G/1.23G [00:08<00:00, 144MB/s]\n"
          ]
        }
      ]
    },
    {
      "cell_type": "code",
      "source": [
        "!unzip CIHP_pgn.zip -d /content/CIHP_PGN/checkpoint"
      ],
      "metadata": {
        "colab": {
          "base_uri": "https://localhost:8080/"
        },
        "id": "okCrSab670IO",
        "outputId": "dd24bcdf-b307-4414-9f31-a045f7400271"
      },
      "execution_count": null,
      "outputs": [
        {
          "output_type": "stream",
          "name": "stdout",
          "text": [
            "Archive:  CIHP_pgn.zip\n",
            "   creating: /content/CIHP_PGN/checkpoint/CIHP_pgn/\n",
            "  inflating: /content/CIHP_PGN/checkpoint/CIHP_pgn/checkpoint  \n",
            "  inflating: /content/CIHP_PGN/checkpoint/CIHP_pgn/model.ckpt-593292.data-00000-of-00001  \n",
            "  inflating: /content/CIHP_PGN/checkpoint/CIHP_pgn/model.ckpt-593292.index  \n",
            "  inflating: /content/CIHP_PGN/checkpoint/CIHP_pgn/model.ckpt-593292.meta  \n"
          ]
        }
      ]
    },
    {
      "cell_type": "markdown",
      "source": [
        "Antes de ejecutar, eliminar la linea de pip y numpy del archivo *requirement.txt*"
      ],
      "metadata": {
        "id": "t5JhvPTqLqpv"
      }
    },
    {
      "cell_type": "code",
      "source": [
        "!pip install -r requirement.txt"
      ],
      "metadata": {
        "colab": {
          "base_uri": "https://localhost:8080/"
        },
        "id": "2XVT0HMh-fGo",
        "outputId": "f85e1c10-5c23-4e81-b213-e7a97b1bce0e"
      },
      "execution_count": null,
      "outputs": [
        {
          "output_type": "stream",
          "name": "stdout",
          "text": [
            "Looking in indexes: https://pypi.org/simple, https://us-python.pkg.dev/colab-wheels/public/simple/\n",
            "Requirement already satisfied: absl-py==0.15.0 in /usr/local/lib/python3.7/dist-packages (from -r requirement.txt (line 1)) (0.15.0)\n",
            "Requirement already satisfied: astor==0.8.1 in /usr/local/lib/python3.7/dist-packages (from -r requirement.txt (line 2)) (0.8.1)\n",
            "Requirement already satisfied: cached-property==1.5.2 in /usr/local/lib/python3.7/dist-packages (from -r requirement.txt (line 3)) (1.5.2)\n",
            "Requirement already satisfied: certifi==2021.10.8 in /usr/local/lib/python3.7/dist-packages (from -r requirement.txt (line 4)) (2021.10.8)\n",
            "Requirement already satisfied: cycler==0.11.0 in /usr/local/lib/python3.7/dist-packages (from -r requirement.txt (line 5)) (0.11.0)\n",
            "Requirement already satisfied: fonttools==4.29.1 in /usr/local/lib/python3.7/dist-packages (from -r requirement.txt (line 6)) (4.29.1)\n",
            "Requirement already satisfied: google-pasta==0.2.0 in /usr/local/lib/python3.7/dist-packages (from -r requirement.txt (line 7)) (0.2.0)\n",
            "Requirement already satisfied: grpcio==1.42.0 in /usr/local/lib/python3.7/dist-packages (from -r requirement.txt (line 8)) (1.42.0)\n",
            "Requirement already satisfied: h5py==3.6.0 in /usr/local/lib/python3.7/dist-packages (from -r requirement.txt (line 9)) (3.6.0)\n",
            "Requirement already satisfied: importlib-metadata==4.8.2 in /usr/local/lib/python3.7/dist-packages (from -r requirement.txt (line 10)) (4.8.2)\n",
            "Requirement already satisfied: Keras-Applications==1.0.8 in /usr/local/lib/python3.7/dist-packages (from -r requirement.txt (line 11)) (1.0.8)\n",
            "Requirement already satisfied: Keras-Preprocessing==1.1.2 in /usr/local/lib/python3.7/dist-packages (from -r requirement.txt (line 12)) (1.1.2)\n",
            "Requirement already satisfied: kiwisolver==1.3.2 in /usr/local/lib/python3.7/dist-packages (from -r requirement.txt (line 13)) (1.3.2)\n",
            "Requirement already satisfied: Markdown==3.3.4 in /usr/local/lib/python3.7/dist-packages (from -r requirement.txt (line 14)) (3.3.4)\n",
            "Requirement already satisfied: matplotlib==3.5.1 in /usr/local/lib/python3.7/dist-packages (from -r requirement.txt (line 15)) (3.5.1)\n",
            "Requirement already satisfied: mkl-fft==1.3.1 in /usr/local/lib/python3.7/dist-packages (from -r requirement.txt (line 16)) (1.3.1)\n",
            "Requirement already satisfied: mkl-random==1.2.2 in /usr/local/lib/python3.7/dist-packages (from -r requirement.txt (line 17)) (1.2.2)\n",
            "Requirement already satisfied: mkl-service==2.4.0 in /usr/local/lib/python3.7/dist-packages (from -r requirement.txt (line 18)) (2.4.0)\n",
            "Requirement already satisfied: opencv-python==4.5.5.62 in /usr/local/lib/python3.7/dist-packages (from -r requirement.txt (line 19)) (4.5.5.62)\n",
            "Requirement already satisfied: opt-einsum==3.3.0 in /usr/local/lib/python3.7/dist-packages (from -r requirement.txt (line 20)) (3.3.0)\n",
            "Requirement already satisfied: packaging==21.3 in /usr/local/lib/python3.7/dist-packages (from -r requirement.txt (line 21)) (21.3)\n",
            "Requirement already satisfied: Pillow==9.0.1 in /usr/local/lib/python3.7/dist-packages (from -r requirement.txt (line 22)) (9.0.1)\n",
            "Requirement already satisfied: protobuf==3.19.1 in /usr/local/lib/python3.7/dist-packages (from -r requirement.txt (line 23)) (3.19.1)\n",
            "Requirement already satisfied: pyparsing==3.0.7 in /usr/local/lib/python3.7/dist-packages (from -r requirement.txt (line 24)) (3.0.7)\n",
            "Requirement already satisfied: python-dateutil==2.8.2 in /usr/local/lib/python3.7/dist-packages (from -r requirement.txt (line 25)) (2.8.2)\n",
            "Requirement already satisfied: scipy==1.7.3 in /usr/local/lib/python3.7/dist-packages (from -r requirement.txt (line 26)) (1.7.3)\n",
            "Requirement already satisfied: setuptools==58.0.4 in /usr/local/lib/python3.7/dist-packages (from -r requirement.txt (line 27)) (58.0.4)\n",
            "Requirement already satisfied: six==1.16.0 in /usr/local/lib/python3.7/dist-packages (from -r requirement.txt (line 28)) (1.16.0)\n",
            "Requirement already satisfied: tensorboard in /usr/local/lib/python3.7/dist-packages (from -r requirement.txt (line 29)) (1.15.0)\n",
            "Requirement already satisfied: tensorflow-estimator in /usr/local/lib/python3.7/dist-packages (from -r requirement.txt (line 30)) (1.15.1)\n",
            "Requirement already satisfied: termcolor==1.1.0 in /usr/local/lib/python3.7/dist-packages (from -r requirement.txt (line 31)) (1.1.0)\n",
            "Requirement already satisfied: typing-extensions==3.10.0.2 in /usr/local/lib/python3.7/dist-packages (from -r requirement.txt (line 32)) (3.10.0.2)\n",
            "Requirement already satisfied: webencodings==0.5.1 in /usr/local/lib/python3.7/dist-packages (from -r requirement.txt (line 33)) (0.5.1)\n",
            "Requirement already satisfied: Werkzeug==0.16.1 in /usr/local/lib/python3.7/dist-packages (from -r requirement.txt (line 34)) (0.16.1)\n",
            "Requirement already satisfied: wheel==0.37.1 in /usr/local/lib/python3.7/dist-packages (from -r requirement.txt (line 35)) (0.37.1)\n",
            "Requirement already satisfied: wrapt==1.13.3 in /usr/local/lib/python3.7/dist-packages (from -r requirement.txt (line 36)) (1.13.3)\n",
            "Requirement already satisfied: zipp==3.7.0 in /usr/local/lib/python3.7/dist-packages (from -r requirement.txt (line 37)) (3.7.0)\n",
            "Collecting jedi==0.10\n",
            "  Downloading jedi-0.10.0-py2.py3-none-any.whl (186 kB)\n",
            "\u001b[?25l\r\u001b[K     |█▊                              | 10 kB 29.9 MB/s eta 0:00:01\r\u001b[K     |███▌                            | 20 kB 26.6 MB/s eta 0:00:01\r\u001b[K     |█████▎                          | 30 kB 32.9 MB/s eta 0:00:01\r\u001b[K     |███████                         | 40 kB 28.8 MB/s eta 0:00:01\r\u001b[K     |████████▊                       | 51 kB 22.1 MB/s eta 0:00:01\r\u001b[K     |██████████▌                     | 61 kB 25.1 MB/s eta 0:00:01\r\u001b[K     |████████████▎                   | 71 kB 25.8 MB/s eta 0:00:01\r\u001b[K     |██████████████                  | 81 kB 27.5 MB/s eta 0:00:01\r\u001b[K     |███████████████▉                | 92 kB 29.7 MB/s eta 0:00:01\r\u001b[K     |█████████████████▌              | 102 kB 30.9 MB/s eta 0:00:01\r\u001b[K     |███████████████████▎            | 112 kB 30.9 MB/s eta 0:00:01\r\u001b[K     |█████████████████████           | 122 kB 30.9 MB/s eta 0:00:01\r\u001b[K     |██████████████████████▉         | 133 kB 30.9 MB/s eta 0:00:01\r\u001b[K     |████████████████████████▌       | 143 kB 30.9 MB/s eta 0:00:01\r\u001b[K     |██████████████████████████▎     | 153 kB 30.9 MB/s eta 0:00:01\r\u001b[K     |████████████████████████████    | 163 kB 30.9 MB/s eta 0:00:01\r\u001b[K     |█████████████████████████████▉  | 174 kB 30.9 MB/s eta 0:00:01\r\u001b[K     |███████████████████████████████▋| 184 kB 30.9 MB/s eta 0:00:01\r\u001b[K     |████████████████████████████████| 186 kB 30.9 MB/s \n",
            "\u001b[?25hRequirement already satisfied: numpy>=1.14.5 in /usr/local/lib/python3.7/dist-packages (from h5py==3.6.0->-r requirement.txt (line 9)) (1.21.6)\n",
            "Requirement already satisfied: dpcpp_cpp_rt in /usr/local/lib/python3.7/dist-packages (from mkl-fft==1.3.1->-r requirement.txt (line 16)) (2022.2.0)\n",
            "Requirement already satisfied: mkl in /usr/local/lib/python3.7/dist-packages (from mkl-fft==1.3.1->-r requirement.txt (line 16)) (2019.0)\n",
            "Requirement already satisfied: intel-opencl-rt==2022.2.0 in /usr/local/lib/python3.7/dist-packages (from dpcpp_cpp_rt->mkl-fft==1.3.1->-r requirement.txt (line 16)) (2022.2.0)\n",
            "Requirement already satisfied: intel-cmplr-lic-rt==2022.2.0 in /usr/local/lib/python3.7/dist-packages (from dpcpp_cpp_rt->mkl-fft==1.3.1->-r requirement.txt (line 16)) (2022.2.0)\n",
            "Requirement already satisfied: intel-openmp==2022.2.0 in /usr/local/lib/python3.7/dist-packages (from dpcpp_cpp_rt->mkl-fft==1.3.1->-r requirement.txt (line 16)) (2022.2.0)\n",
            "Requirement already satisfied: intel-cmplr-lib-rt==2022.2.0 in /usr/local/lib/python3.7/dist-packages (from dpcpp_cpp_rt->mkl-fft==1.3.1->-r requirement.txt (line 16)) (2022.2.0)\n",
            "Requirement already satisfied: tbb==2021.* in /usr/local/lib/python3.7/dist-packages (from intel-opencl-rt==2022.2.0->dpcpp_cpp_rt->mkl-fft==1.3.1->-r requirement.txt (line 16)) (2021.7.0)\n",
            "Installing collected packages: jedi\n",
            "Successfully installed jedi-0.10.0\n"
          ]
        }
      ]
    },
    {
      "cell_type": "code",
      "source": [
        "!pip install -U pillow"
      ],
      "metadata": {
        "colab": {
          "base_uri": "https://localhost:8080/",
          "height": 294
        },
        "id": "wNEtO41oSRTp",
        "outputId": "5d5c49c4-41ea-4b7b-a92f-d9a79a1412da"
      },
      "execution_count": null,
      "outputs": [
        {
          "output_type": "stream",
          "name": "stdout",
          "text": [
            "Looking in indexes: https://pypi.org/simple, https://us-python.pkg.dev/colab-wheels/public/simple/\n",
            "Requirement already satisfied: pillow in /usr/local/lib/python3.7/dist-packages (9.0.1)\n",
            "Collecting pillow\n",
            "  Downloading Pillow-9.2.0-cp37-cp37m-manylinux_2_17_x86_64.manylinux2014_x86_64.whl (3.1 MB)\n",
            "\u001b[K     |████████████████████████████████| 3.1 MB 29.5 MB/s \n",
            "\u001b[?25hInstalling collected packages: pillow\n",
            "  Attempting uninstall: pillow\n",
            "    Found existing installation: Pillow 9.0.1\n",
            "    Uninstalling Pillow-9.0.1:\n",
            "      Successfully uninstalled Pillow-9.0.1\n",
            "Successfully installed pillow-9.2.0\n"
          ]
        },
        {
          "output_type": "display_data",
          "data": {
            "application/vnd.colab-display-data+json": {
              "pip_warning": {
                "packages": [
                  "PIL"
                ]
              }
            }
          },
          "metadata": {}
        }
      ]
    },
    {
      "cell_type": "code",
      "source": [
        "!python test_pgn.py"
      ],
      "metadata": {
        "id": "1yDm8DN78lCb"
      },
      "execution_count": null,
      "outputs": []
    },
    {
      "cell_type": "code",
      "source": [
        "\n",
        "import os,sys,shutil\n",
        "from PIL import Image\n",
        "import numpy as np\n",
        "\n",
        "\n",
        "DATA_TYPE = ['png','PNG','jpg','JPG']\n",
        "def createDataset(path_img, name_dataset = 'CIHP'):\n",
        "    '''\n",
        "    USAGE = \"python %s /path_to_images name_of_dataset\" % sys.argv[0]\n",
        "    USAGE += \"\\nPlease put this code to the same path as test_pgn.py\"\n",
        "    if len(sys.argv)!=3 or '--help' in sys.argv or '-h' in sys.argv:\n",
        "        print(USAGE)\n",
        "        os._exit(0)\n",
        "    path_img = sys.argv[1]\n",
        "    name_dataset = sys.argv[2]\n",
        "    '''\n",
        "    path_dataset = os.path.join('.', 'datasets', name_dataset)\n",
        "    if os.path.isdir(path_dataset):\n",
        "        raise(Exception(\"the target dataset already exists, please delete that first.\"))\n",
        "        #shutil.rmtree(path_dataset)\n",
        "    os.makedirs(path_dataset)\n",
        "    path_edge = os.path.join(path_dataset, 'edges')\n",
        "    path_images = os.path.join(path_dataset, 'images')\n",
        "    path_list = os.path.join(path_dataset, 'list')\n",
        "    for p in [path_edge, path_images, path_list]:\n",
        "        os.makedirs(p)\n",
        "    files = [i for i in os.listdir(path_img) if i.split('.')[-1] in DATA_TYPE]\n",
        "    print(len(files))\n",
        "    #files = files[:]\n",
        "    for f in files:\n",
        "        im = Image.open(os.path.join(path_img, f))\n",
        "        #im = im.resize((im.size[0]*256//im.size[1],256), Image.LANCZOS) # if you run out of GPU memory\n",
        "        im1 = Image.new('L', im.size)\n",
        "        im.save(os.path.join(path_images, f))\n",
        "        im1.save(os.path.join(path_edge, '.'.join(f.split('.')[:-1])+'.png'))\n",
        "    with open(os.path.join(path_list, 'val.txt'), 'w') as flist:\n",
        "        for f in files:\n",
        "            flist.write('/images/%s /edges/%s\\n'%(f,'.'.join(f.split('.')[:-1])+'.png'))\n",
        "    with open(os.path.join(path_list, 'val_id.txt'), 'w') as flist:\n",
        "        for f in files:\n",
        "            flist.write('%s\\n'%'.'.join(f.split('.')[:-1]))\n",
        "\n",
        "createDataset('datasets/CIHP/images/', 'perron2')"
      ],
      "metadata": {
        "colab": {
          "base_uri": "https://localhost:8080/"
        },
        "id": "oCDqdZeARVmx",
        "outputId": "38103aed-513f-4ad7-e5aa-b068841df319"
      },
      "execution_count": null,
      "outputs": [
        {
          "output_type": "stream",
          "name": "stdout",
          "text": [
            "6\n"
          ]
        }
      ]
    },
    {
      "cell_type": "code",
      "source": [
        "import PIL\n",
        "print(PIL.__version__)"
      ],
      "metadata": {
        "colab": {
          "base_uri": "https://localhost:8080/"
        },
        "id": "xRgKYMcMSD_r",
        "outputId": "ff44b7ce-07a1-4b38-d515-f18e1d3dcd5f"
      },
      "execution_count": null,
      "outputs": [
        {
          "output_type": "stream",
          "name": "stdout",
          "text": [
            "9.2.0\n"
          ]
        }
      ]
    },
    {
      "cell_type": "code",
      "source": [
        "import numpy as np\n",
        "import imageio as ii\n",
        "from PIL import Image\n",
        "nxb_img = Image.open('/content/CIHP_PGN/datasets/CIHP/images/front.jpg')      # This is your image.\n",
        " \n",
        "# Reshape their label image to our size \n",
        "label_img = Image.open('datasets/CIHP/labels/0005008.png')  # This is the label image from CIHP.\n",
        "nxb_label_img = label_img.resize(nxb_img.size, Image.NEAREST)\n",
        "nxb_label_img.save('datasets/CIHP/labels/front.png')\n",
        "\n",
        "# Reshape their edge image to our size \n",
        "edge_img  = Image.open('datasets/CIHP/edges/0005008.png')\n",
        "nxb_edge_img  = edge_img.resize(nxb_img.size, Image.NEAREST)\n",
        "nxb_edge_img.save('datasets/CIHP/edges/front.png')"
      ],
      "metadata": {
        "id": "b9_Tw2WsHz3h"
      },
      "execution_count": null,
      "outputs": []
    },
    {
      "cell_type": "code",
      "source": [],
      "metadata": {
        "id": "dKXibhJ_F-qA"
      },
      "execution_count": null,
      "outputs": []
    }
  ]
}